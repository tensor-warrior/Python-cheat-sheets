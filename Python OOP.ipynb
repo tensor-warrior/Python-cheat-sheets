{
 "cells": [
  {
   "cell_type": "markdown",
   "metadata": {},
   "source": [
    "## Python OOP fundamentals:"
   ]
  },
  {
   "cell_type": "markdown",
   "metadata": {},
   "source": [
    "**Procedural-Oriented**: Programming paradigm where we design the problem around functions, i.e. blocks of statements which manipulate data.  \n",
    "**Object-Oriented**: Programming paradigm where we combine data and functionality and wrap it inside something called an object.\n",
    "\n",
    "Classes and objects are two main aspects of object oriented programming. A class creates a new type where objects are instances of the class."
   ]
  },
  {
   "cell_type": "markdown",
   "metadata": {},
   "source": [
    "Python treats everything as an object. Be it an integer value, a string, a function, a class or even an instance of a class."
   ]
  },
  {
   "cell_type": "code",
   "execution_count": 1,
   "metadata": {},
   "outputs": [
    {
     "name": "stdout",
     "output_type": "stream",
     "text": [
      "True\n",
      "True\n",
      "True\n",
      "True\n",
      "True\n"
     ]
    }
   ],
   "source": [
    "a = 1\n",
    "print(isinstance(a, object))\n",
    "\n",
    "a = \"Agastya\"\n",
    "print(isinstance(a, object))\n",
    "\n",
    "a = print\n",
    "print(isinstance(a, object))\n",
    "\n",
    "class A:\n",
    "    pass\n",
    "\n",
    "a = A\n",
    "print(isinstance(a, object))\n",
    "\n",
    "a = A()\n",
    "print(isinstance(a, object))"
   ]
  },
  {
   "cell_type": "markdown",
   "metadata": {},
   "source": [
    "Every object in Python has a flag which specifies whether it is **callable** or not. For instance int and string are not callable while function and classes are. Being callable means that when it is called using a pair of parenthesis, a process will happen. This process can be executing a set of instructions as in a function object or creating an object of class. An instance of a class can also be made callable by specifying a special method which is **\\_\\_call\\_\\_**."
   ]
  },
  {
   "cell_type": "markdown",
   "metadata": {},
   "source": [
    "For example, the following line will raise an exception because an integer object is not callable!"
   ]
  },
  {
   "cell_type": "code",
   "execution_count": 2,
   "metadata": {},
   "outputs": [
    {
     "name": "stdout",
     "output_type": "stream",
     "text": [
      "'int' object is not callable\n"
     ]
    },
    {
     "name": "stderr",
     "output_type": "stream",
     "text": [
      "<>:2: SyntaxWarning: 'int' object is not callable; perhaps you missed a comma?\n",
      "<>:2: SyntaxWarning: 'int' object is not callable; perhaps you missed a comma?\n",
      "<ipython-input-2-3b8b14a8a45b>:2: SyntaxWarning: 'int' object is not callable; perhaps you missed a comma?\n",
      "  1()\n"
     ]
    }
   ],
   "source": [
    "try:\n",
    "    1()\n",
    "except Exception as e:\n",
    "    print(e)"
   ]
  },
  {
   "cell_type": "markdown",
   "metadata": {},
   "source": [
    "Demonstrating the use of **\\_\\_call\\_\\_** method to make a class instance callable which by default is not callable."
   ]
  },
  {
   "cell_type": "code",
   "execution_count": 3,
   "metadata": {},
   "outputs": [
    {
     "name": "stdout",
     "output_type": "stream",
     "text": [
      "'A' object is not callable\n",
      "This object is callable\n"
     ]
    }
   ],
   "source": [
    "class A:\n",
    "    pass\n",
    "\n",
    "try:\n",
    "    A()()\n",
    "except Exception as e:\n",
    "    print(e)\n",
    "\n",
    "\n",
    "class B:\n",
    "    def __call__(self):\n",
    "        print(\"This object is callable\")\n",
    "\n",
    "try:\n",
    "    B()()\n",
    "except Exception as e:\n",
    "    print(e)"
   ]
  },
  {
   "cell_type": "markdown",
   "metadata": {},
   "source": [
    "**Class methods** have only one specific difference from ordinary functions - they must have an extra parameter that has to addded to the beginning of the parameter list, but you do not give a value for this parameter when you call the method, Python will provide it. This particular parameter refers to the object itself, and by convention, it is given the name **self**."
   ]
  },
  {
   "cell_type": "code",
   "execution_count": 4,
   "metadata": {},
   "outputs": [
    {
     "name": "stdout",
     "output_type": "stream",
     "text": [
      "Agastya\n",
      "Agastya\n"
     ]
    }
   ],
   "source": [
    "class Person:\n",
    "    name = \"Agastya\"\n",
    "    \n",
    "    def print_name(self):\n",
    "        print(self.name)\n",
    "\n",
    "\n",
    "p = Person()\n",
    "\n",
    "# Both the below do the same thing. In the first case, self gets the object reference by-default\n",
    "# whereas in the second case, we are explicitly passing the object reference to the method.\n",
    "p.print_name()\n",
    "Person.print_name(p)"
   ]
  },
  {
   "cell_type": "markdown",
   "metadata": {},
   "source": [
    "The **\\_\\_init\\_\\_** method in Python is not a constructor. It just gets called when the object is created and it is not used to instantiate the class. This method can be used to set the attributes of an object as follows:"
   ]
  },
  {
   "cell_type": "code",
   "execution_count": 5,
   "metadata": {},
   "outputs": [
    {
     "name": "stdout",
     "output_type": "stream",
     "text": [
      "13\n"
     ]
    }
   ],
   "source": [
    "class Number:\n",
    "    # Not a constructor\n",
    "    def __init__(self, val):\n",
    "        self.val = val\n",
    "\n",
    "    def print_val(self):\n",
    "        print(self.val)\n",
    "\n",
    "\n",
    "number = Number(13)\n",
    "number.print_val()"
   ]
  },
  {
   "cell_type": "markdown",
   "metadata": {},
   "source": [
    "## Dunders or magic functions in Python"
   ]
  },
  {
   "cell_type": "markdown",
   "metadata": {},
   "source": [
    "The lifecycle of an object starts with creation and ends with deletion. During its lifecycle, it may encounter many opertations. To help these operations, which includes creation and deletion, Python provides special functions known as **dunders** or **magic functions**. Some common dunders with their functions are as follows:\n",
    "1. **\\_\\_init\\_\\_** is called when an object is created (not constructor)\n",
    "2. **\\_\\_del\\_\\_** is called when an object is deleted (not destructor)\n",
    "3. **\\_\\_str\\_\\_** is called when the ***str*** function in called on the object\n",
    "4. **\\_\\_len\\_\\_** is called when the ***len*** function is called on the object\n",
    "5. **\\_\\_add\\_\\_** is called when the **+** operator is used with the given object\n",
    "6. **\\_\\_eq\\_\\_** is called when the **==** operator is used with the given object.\n",
    "\n",
    "An exhaustive list is given in [this page](https://docs.python.org/3/reference/datamodel.html) at the official Python documentation\n",
    "\n",
    "**Remark**: We don't *define* these dunders, rather we *override* them when we try to use them in our classes."
   ]
  },
  {
   "cell_type": "code",
   "execution_count": 6,
   "metadata": {},
   "outputs": [
    {
     "name": "stdout",
     "output_type": "stream",
     "text": [
      "str(p1) is Agastya 45\n",
      "p1 == p2 is False\n"
     ]
    }
   ],
   "source": [
    "class Person:\n",
    "    def __init__(self, name, age):\n",
    "        self.name = name\n",
    "        self.age = age\n",
    "\n",
    "    def __str__(self):\n",
    "        return \"{} {}\".format(self.name, self.age)\n",
    "\n",
    "    def __eq__(self, other):\n",
    "        return self.name == other.name and self.age == other.age\n",
    "\n",
    "\n",
    "p1 = Person(\"Agastya\", 45)\n",
    "p2 = Person(\"Ashtavakra\", 50)\n",
    "\n",
    "print(\"str(p1) is\", str(p1))\n",
    "print(f\"p1 == p2 is {p1 == p2}\")"
   ]
  },
  {
   "cell_type": "markdown",
   "metadata": {},
   "source": [
    "Implementation of C++ cout function using dunders in Python"
   ]
  },
  {
   "cell_type": "code",
   "execution_count": 7,
   "metadata": {},
   "outputs": [
    {
     "name": "stdout",
     "output_type": "stream",
     "text": [
      "Agastya Muni"
     ]
    },
    {
     "data": {
      "text/plain": [
       "<__main__.Ostream at 0x182eb3a5910>"
      ]
     },
     "execution_count": 7,
     "metadata": {},
     "output_type": "execute_result"
    }
   ],
   "source": [
    "class Ostream:\n",
    "    def __lshift__(self, other):\n",
    "        print(other, end='')\n",
    "        return self # to allow chaining\n",
    "\n",
    "\n",
    "cout = Ostream()\n",
    "cout << \"Agastya\" << \" \" << \"Muni\""
   ]
  },
  {
   "cell_type": "markdown",
   "metadata": {},
   "source": [
    "## Class and Instance attributes"
   ]
  },
  {
   "cell_type": "markdown",
   "metadata": {},
   "source": [
    "A **class attribute** is a Python variable that belongs to a class rather than a particular object. It is shared between all the objects of this class and it is defined outside the **\\_\\_init\\_\\_** dunder.\n",
    "\n",
    "An **instance attribute** is a Python variable belonging to one, and only one, object. This variable is only accessible in the scope of this object and it is defined inside the **\\_\\_init\\_\\_** dunder defined and as an attribute of self.\n",
    "\n",
    "Another difference is that a class attribute is shared among all the objects whereas an instance attribute is specific to a given object. Also, mutating the class attribute may lead to different results based on whether they are mutable or not.\n",
    "\n",
    "If a class attribute is immutable then assigning a new value to it changes it to an instance variable for that object whereas if it is a mutable then it depends how it's getting mutated. For instance, If the class attribute is a list then adding item in tha list will not convert it to an instance attribute and the changed value will reflect to all the instances. However, assigning a new list to the attribute will make it an instance attribute for that particular instance."
   ]
  },
  {
   "cell_type": "code",
   "execution_count": 8,
   "metadata": {},
   "outputs": [
    {
     "name": "stdout",
     "output_type": "stream",
     "text": [
      "Operation performed: d1.tricks.append('jump')\n",
      "Dog.tricks =  ['jump']\n",
      "\n",
      "Operation performed: d2.tricks.append('play')\n",
      "d1.tricks =  ['jump', 'play']\n",
      "\n",
      "Operation performed: d3.tricks = list('catches')\n",
      "d2.tricks =  ['jump', 'play']\n",
      "d3.tricks =  ['c', 'a', 't', 'c', 'h', 'e', 's']\n"
     ]
    }
   ],
   "source": [
    "class Dog:\n",
    "    tricks = []\n",
    "    \n",
    "    def __init__(self, name):\n",
    "        self.name = name\n",
    "\n",
    "\n",
    "d1 = Dog(\"Fluffy\")\n",
    "d1.tricks.append(\"jump\")\n",
    "print(\"Operation performed: d1.tricks.append('jump')\")\n",
    "print(\"Dog.tricks = \", Dog.tricks)\n",
    "print()\n",
    "\n",
    "d2 = Dog(\"Clinton\")\n",
    "d2.tricks.append(\"play\")\n",
    "print(\"Operation performed: d2.tricks.append('play')\")\n",
    "print(\"d1.tricks = \", d1.tricks)\n",
    "print()\n",
    "\n",
    "d3 = Dog(\"Max\")\n",
    "d3.tricks = list(\"catches\")\n",
    "print(\"Operation performed: d3.tricks = list('catches')\")\n",
    "print(\"d2.tricks = \", d2.tricks)\n",
    "print(\"d3.tricks = \", d3.tricks)"
   ]
  },
  {
   "cell_type": "markdown",
   "metadata": {},
   "source": [
    "## Inheritance and Polymorphism"
   ]
  },
  {
   "cell_type": "markdown",
   "metadata": {},
   "source": [
    "Using inheritance, we can use the attributes of base class and can also override it's methods (Polymorphism). In an inherited subclass, a parent class can be referred with the use of the **super()** class. The super() class with no 'parameters' can be used to acces all the methods of it's parent class.\n",
    "\n",
    "**Remark**: Python does not supports method overloading. It only supports method overriding."
   ]
  },
  {
   "cell_type": "code",
   "execution_count": 9,
   "metadata": {},
   "outputs": [
    {
     "name": "stdout",
     "output_type": "stream",
     "text": [
      "Name AKM Age 40\n",
      "Salary 50000\n",
      "\n",
      "Name Gulshan Age 22\n",
      "Marks 80\n"
     ]
    }
   ],
   "source": [
    "class SchoolMember:\n",
    "    def __init__(self, name, age):\n",
    "        self.name = name\n",
    "        self.age = age\n",
    "\n",
    "    def tell(self):\n",
    "        print(f\"Name {self.name} Age {self.age}\")\n",
    "\n",
    "class Teacher(SchoolMember):\n",
    "    # Overriding the __init__ function\n",
    "    def __init__(self, name, age, salary):\n",
    "        SchoolMember.__init__(self, name, age)\n",
    "\n",
    "        # This can also be written as follows:\n",
    "        # super().__init__(name, age)\n",
    "\n",
    "        self.salary = salary\n",
    "\n",
    "    # Function overriding\n",
    "    def tell(self):\n",
    "        SchoolMember.tell(self)\n",
    "        \n",
    "        # This can also be written as follows:\n",
    "        # super().tell()\n",
    "\n",
    "        print(f\"Salary {self.salary}\")\n",
    "\n",
    "class Student(SchoolMember):\n",
    "    def __init__(self, name, age, marks):\n",
    "        super().__init__(name, age)\n",
    "        self.marks = marks\n",
    "\n",
    "    def tell(self):\n",
    "        super().tell()\n",
    "        print(f\"Marks {self.marks}\")\n",
    "\n",
    "\n",
    "t = Teacher(\"Agastya\", 45, 50000)\n",
    "t.tell()\n",
    "print()\n",
    "\n",
    "s = Student(\"Ashtavakra\", 50, 70000)\n",
    "s.tell()"
   ]
  },
  {
   "cell_type": "markdown",
   "metadata": {},
   "source": [
    "In Python, when we look for a method, a search operation starts that looks for the called method in the class heirarchy. The order in which the search happens is called the **Method Resolution Order** which can be accessed using the **\\_\\_mro\\_\\_** attribute as follows:"
   ]
  },
  {
   "cell_type": "code",
   "execution_count": 10,
   "metadata": {},
   "outputs": [
    {
     "name": "stdout",
     "output_type": "stream",
     "text": [
      "(<class '__main__.Student'>, <class '__main__.SchoolMember'>, <class 'object'>)\n"
     ]
    }
   ],
   "source": [
    "print(Student.__mro__)"
   ]
  },
  {
   "cell_type": "markdown",
   "metadata": {},
   "source": [
    "Thus Python will first search for the method in the Student class followed by the SchoolMember class. It plays vital role in the context of multiple inheritance as single method may be found in multiple super classes. More on multiple inheritance later."
   ]
  },
  {
   "cell_type": "markdown",
   "metadata": {},
   "source": [
    "The **super(class, object)** class can make some changes in the way the search happens. The **object** determines the method resolution order to be searched. The search starts from the class right after the **class**. For example, if MRO of **object** is D -> C -> B -> A -> object and the value of **class** is C, then super() searches B -> A -> object. This is demonstrated as follows:"
   ]
  },
  {
   "cell_type": "code",
   "execution_count": 11,
   "metadata": {},
   "outputs": [
    {
     "name": "stdout",
     "output_type": "stream",
     "text": [
      "B\n"
     ]
    }
   ],
   "source": [
    "class A:\n",
    "    def speak(self):\n",
    "        print(\"A\")\n",
    "\n",
    "class B(A):\n",
    "    def speak(self):\n",
    "        print(\"B\")\n",
    "\n",
    "class C(B):\n",
    "    def speak(self):\n",
    "        print(\"C\")\n",
    "\n",
    "class D(C):\n",
    "    def speak(self):\n",
    "        super(C, self).speak()\n",
    "    \n",
    "\n",
    "D().speak()"
   ]
  },
  {
   "cell_type": "markdown",
   "metadata": {},
   "source": [
    "In this example, since super is specified as super(C, self), the search for the speak() method will start form B. Since B contains the speak() method, super binds this method with self and returns the bound method. The result is that we get the output as B.\n",
    "\n",
    "However, If the class B does not contains the the speak method then super will skip it and start the search from the next class in the MRO. This is demonstrated in the following example where there is no speak() method in the class B resulting in the output being A."
   ]
  },
  {
   "cell_type": "code",
   "execution_count": 12,
   "metadata": {},
   "outputs": [
    {
     "name": "stdout",
     "output_type": "stream",
     "text": [
      "A\n"
     ]
    }
   ],
   "source": [
    "class A:\n",
    "    def speak(self):\n",
    "        print(\"A\")\n",
    "\n",
    "class B(A):\n",
    "    pass\n",
    "\n",
    "class C(B):\n",
    "    def speak(self):\n",
    "        print(\"C\")\n",
    "\n",
    "class D(C):\n",
    "    def speak(self):\n",
    "        super(C, self).speak()\n",
    "    \n",
    "\n",
    "D().speak()"
   ]
  },
  {
   "cell_type": "markdown",
   "metadata": {},
   "source": [
    "In cases where where super() is called without any 'parameters', **class** takes the value of the class in which super is being called and **object** takes the value of self. Consider the following example:"
   ]
  },
  {
   "cell_type": "code",
   "execution_count": 13,
   "metadata": {},
   "outputs": [
    {
     "name": "stdout",
     "output_type": "stream",
     "text": [
      "A\n",
      "A\n"
     ]
    }
   ],
   "source": [
    "class A:\n",
    "    def speak(self):\n",
    "        print('A')\n",
    "\n",
    "class B(A):\n",
    "    def speak(self):\n",
    "        # Both will return the speak() method from class A bounded with the self object\n",
    "        # Thus both these statements with print 'A' in the stdout\n",
    "        super().speak()\n",
    "        super(B, self).speak()\n",
    "        \n",
    "B().speak()"
   ]
  },
  {
   "cell_type": "markdown",
   "metadata": {},
   "source": [
    "Until now, we have only changed the **class** 'parameter' in the super class when the **object** remained the same, i.e., self. The results can be different If super is called with an object other than self because then the method found will be bound to this new object and not the self. This is demonstrated as follows:"
   ]
  },
  {
   "cell_type": "markdown",
   "metadata": {},
   "source": [
    "The demonstration is using two classes - **Cube** which can be though of as a 3-D **Square**. Thus, Square will serve as a parent class of **Cube**. **Cube** has two methods - surface_area() and volume() - to calculate it's surface area and volume respectively wheras Square has the methods - area() and perimeter() - to calculate the perimeter and area respectively."
   ]
  },
  {
   "cell_type": "code",
   "execution_count": 14,
   "metadata": {},
   "outputs": [
    {
     "name": "stdout",
     "output_type": "stream",
     "text": [
      "Surface area: 24\n",
      "Volume: 8\n"
     ]
    }
   ],
   "source": [
    "class Square:\n",
    "    def __init__(self, side):\n",
    "        self.side = side\n",
    "\n",
    "    def area(self):\n",
    "        return self.side ** 2\n",
    "    \n",
    "    def perimeter(self):\n",
    "        return 4 * self.side\n",
    "\n",
    "class Cube(Square):\n",
    "    def surface_area(self):\n",
    "        return 6 * super().area()\n",
    "        # Here super().area() is the same as super(Cube, self).area()\n",
    "\n",
    "    def volume(self):\n",
    "        return self.side * super().area()\n",
    "\n",
    "\n",
    "cube = Cube(2)\n",
    "print(\"Surface area:\", cube.surface_area())\n",
    "print(\"Volume:\", cube.volume())"
   ]
  },
  {
   "cell_type": "markdown",
   "metadata": {},
   "source": [
    "In the **Cube** class, the \\_\\_init\\_\\_ dunder is inherited from the **Square** class is not overrided so it uses the same \\_\\_init\\_\\_ that the **Square** class uses so the surface area and volume are calculated for a cube of side 2 as super().area() bounds the area() method to self."
   ]
  },
  {
   "cell_type": "markdown",
   "metadata": {},
   "source": [
    "Now If we change *super().area()* to *super(Cube, Cube(1)).area()* then we will get the area for a Cube of side 1. This is because, after finding the area() method, super will bind the method to the cube object having side 1. Although, the value for *self.side* will still be 2 because that's the value with which the first **Cube** object is initialized. So the surface_area() function will return 6 * 1 = 6 and volume function will return 2 * 1 = 1."
   ]
  },
  {
   "cell_type": "code",
   "execution_count": 15,
   "metadata": {},
   "outputs": [
    {
     "name": "stdout",
     "output_type": "stream",
     "text": [
      "Surface area: 6\n",
      "Volume: 2\n"
     ]
    }
   ],
   "source": [
    "class Cube(Square):\n",
    "    def surface_area(self):\n",
    "        return 6 * super(Cube, Cube(1)).area()\n",
    "\n",
    "    def volume(self):\n",
    "        return self.side * super(Cube, Cube(1)).area()\n",
    "\n",
    "\n",
    "cube = Cube(2)\n",
    "print(\"Surface area:\", cube.surface_area())\n",
    "print(\"Volume:\", cube.volume())"
   ]
  }
 ],
 "metadata": {
  "kernelspec": {
   "display_name": "Python 3",
   "language": "python",
   "name": "python3"
  },
  "language_info": {
   "codemirror_mode": {
    "name": "ipython",
    "version": 3
   },
   "file_extension": ".py",
   "mimetype": "text/x-python",
   "name": "python",
   "nbconvert_exporter": "python",
   "pygments_lexer": "ipython3",
   "version": "3.8.7"
  },
  "vscode": {
   "interpreter": {
    "hash": "df55e80fd1636c21d36de9ee8fddf2d72be9da303751b7c9ea9008b1868c063f"
   }
  }
 },
 "nbformat": 4,
 "nbformat_minor": 2
}
