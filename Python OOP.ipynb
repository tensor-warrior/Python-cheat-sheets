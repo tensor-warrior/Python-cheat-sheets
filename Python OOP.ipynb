{
 "cells": [
  {
   "cell_type": "markdown",
   "metadata": {},
   "source": [
    "## Python OOP fundamentals:"
   ]
  },
  {
   "cell_type": "markdown",
   "metadata": {},
   "source": [
    "**Procedural-Oriented**: Programming paradigm where we design the problem around functions, i.e. blocks of statements which manipulate data.\n",
    "**Object-Oriented**: Programming paradigm where we combine data and functionality and wrap it inside something called an object.\n",
    "\n",
    "Classes and objects are two main aspects of object oriented programming. A class created a new type where objects are instances of the class."
   ]
  },
  {
   "cell_type": "markdown",
   "metadata": {},
   "source": [
    "Python treats everything as an object. Be it an integer value, a string, a function, a class or even an instance of a class."
   ]
  },
  {
   "cell_type": "code",
   "execution_count": 1,
   "metadata": {},
   "outputs": [
    {
     "name": "stdout",
     "output_type": "stream",
     "text": [
      "True\n",
      "True\n",
      "True\n",
      "True\n",
      "True\n"
     ]
    }
   ],
   "source": [
    "a = 1\n",
    "print(isinstance(a, object))\n",
    "\n",
    "a = \"gulshan\"\n",
    "print(isinstance(a, object))\n",
    "\n",
    "a = print\n",
    "print(isinstance(a, object))\n",
    "\n",
    "class A:\n",
    "    pass\n",
    "a = A\n",
    "print(isinstance(a, object))\n",
    "\n",
    "a = A()\n",
    "print(isinstance(a, object))"
   ]
  },
  {
   "cell_type": "markdown",
   "metadata": {},
   "source": [
    "Every object in Python has a flag which specifies whether it is **callable** or not. For instance int and string are not callable while function and classes are. Being callable means that when it is called using a pair of parenthesis, a process will happen. This process can be executing a set of instructions as in a function object or creating an object of class. An instance of a class can also be made callable by specifying a special method which is **__call__**."
   ]
  },
  {
   "cell_type": "markdown",
   "metadata": {},
   "source": [
    "For example, the following line will raise an exception because an integer object is not callable!"
   ]
  },
  {
   "cell_type": "code",
   "execution_count": 2,
   "metadata": {},
   "outputs": [
    {
     "name": "stdout",
     "output_type": "stream",
     "text": [
      "'int' object is not callable\n"
     ]
    },
    {
     "name": "stderr",
     "output_type": "stream",
     "text": [
      "<>:2: SyntaxWarning: 'int' object is not callable; perhaps you missed a comma?\n",
      "<>:2: SyntaxWarning: 'int' object is not callable; perhaps you missed a comma?\n",
      "<ipython-input-2-3b8b14a8a45b>:2: SyntaxWarning: 'int' object is not callable; perhaps you missed a comma?\n",
      "  1()\n"
     ]
    }
   ],
   "source": [
    "try:\n",
    "    1()\n",
    "except Exception as e:\n",
    "    print(e)"
   ]
  },
  {
   "cell_type": "markdown",
   "metadata": {},
   "source": [
    "Demonstrating the use of **__call__** method to make an class instance callable which by default is not callable."
   ]
  },
  {
   "cell_type": "code",
   "execution_count": 3,
   "metadata": {},
   "outputs": [
    {
     "name": "stdout",
     "output_type": "stream",
     "text": [
      "'A' object is not callable\n",
      "This object is callable\n"
     ]
    }
   ],
   "source": [
    "class A:\n",
    "    pass\n",
    "\n",
    "try:\n",
    "    A()()\n",
    "except Exception as e:\n",
    "    print(e)\n",
    "\n",
    "\n",
    "class B:\n",
    "    def __call__(self):\n",
    "        print(\"This object is callable\")\n",
    "\n",
    "try:\n",
    "    B()()\n",
    "except Exception as e:\n",
    "    print(e)"
   ]
  },
  {
   "cell_type": "markdown",
   "metadata": {},
   "source": [
    "**Class methods** have only one specific difference from ordinary functions - they must have an extra first name that has to addded to the beginning of the parameter list, but you do not give a value for this parameter when you call the method, Python will provide it. This particular variable refers to the object itself, and by convention, it is given the name **self**."
   ]
  },
  {
   "cell_type": "code",
   "execution_count": 4,
   "metadata": {},
   "outputs": [
    {
     "name": "stdout",
     "output_type": "stream",
     "text": [
      "Gulshan\n",
      "Gulshan\n"
     ]
    }
   ],
   "source": [
    "class Person:\n",
    "    name = \"Gulshan\"\n",
    "    \n",
    "    def print_name(self):\n",
    "        print(self.name)\n",
    "\n",
    "\n",
    "p = Person()\n",
    "\n",
    "# Both the below do the same thing. In the first case, self gets the object reference by-default\n",
    "# whereas in the second case, we are explicitly passing the object reference to the method.\n",
    "p.print_name()\n",
    "Person.print_name(p)"
   ]
  },
  {
   "cell_type": "markdown",
   "metadata": {},
   "source": [
    "The **__init__** method in Python is not a constructor. It just gets called when the object is created and it is not used to instantiate the class. This method can be used to set the attributes of an object as follows:"
   ]
  },
  {
   "cell_type": "code",
   "execution_count": 5,
   "metadata": {},
   "outputs": [
    {
     "name": "stdout",
     "output_type": "stream",
     "text": [
      "13\n"
     ]
    }
   ],
   "source": [
    "class Number:\n",
    "    # Not a constructor\n",
    "    def __init__(self, val):\n",
    "        self.val = val\n",
    "\n",
    "    def print_val(self):\n",
    "        print(self.val)\n",
    "\n",
    "\n",
    "number = Number(13)\n",
    "number.print_val()"
   ]
  },
  {
   "cell_type": "markdown",
   "metadata": {},
   "source": [
    "## Dunders or magic functions in Python"
   ]
  },
  {
   "cell_type": "markdown",
   "metadata": {},
   "source": [
    "The lifecycle of an object starts with creation and ends with deletion. During its lifecycle, it may encounter many opertations. To help these operations, which includes creation and deletion, Python provides special functions known as **dunders** or **magic functions**. Some common dunders with their functions are as follows:\n",
    "1. **init** - called when an object is created (not constructor)\n",
    "2. **del** - called when an object is deleted (not destructor)\n",
    "3. **str** - called when the ***str*** function in called on the object\n",
    "4. **repr** - called when the ***print*** function is called on the object\n",
    "5. **len** - called when the ***len*** function is called on the object\n",
    "6. **add** - called when the **+** operator is used with the given object\n",
    "7. **eq** - called when the **==** operator is used with the given object.\n",
    "\n",
    "An exhaustive list is given in [this page](https://docs.python.org/3/reference/datamodel.html) at the official Python documentation\n",
    "\n",
    "**Remark**: We don't *define* these dunders, rather we *override* them when we try to use them in our classes."
   ]
  },
  {
   "cell_type": "code",
   "execution_count": 6,
   "metadata": {},
   "outputs": [
    {
     "name": "stdout",
     "output_type": "stream",
     "text": [
      "False\n"
     ]
    }
   ],
   "source": [
    "class Person:\n",
    "    def __init__(self, name, age):\n",
    "        self.name = name\n",
    "        self.age = age\n",
    "\n",
    "    def __str__(self):\n",
    "        return f\"{0} {1}\".format(self.name, self.age)\n",
    "\n",
    "    def __repr__(self):\n",
    "        return f\"{0}\".format(self.name)\n",
    "\n",
    "    def __eq__(self, other):\n",
    "        return self.name == other.name and self.age == other.age\n",
    "\n",
    "\n",
    "p1 = Person(\"Gulshan\", 22)\n",
    "p2 = Person(\"Harsh\", 19)\n",
    "\n",
    "print(p1 == p2)"
   ]
  },
  {
   "cell_type": "markdown",
   "metadata": {},
   "source": [
    "Implementation of C++ cout function using dunders in Python"
   ]
  },
  {
   "cell_type": "code",
   "execution_count": 7,
   "metadata": {},
   "outputs": [
    {
     "name": "stdout",
     "output_type": "stream",
     "text": [
      "Gulshan Mishra"
     ]
    },
    {
     "data": {
      "text/plain": [
       "<__main__.Ostream at 0x1ee0f9a6760>"
      ]
     },
     "execution_count": 7,
     "metadata": {},
     "output_type": "execute_result"
    }
   ],
   "source": [
    "class Ostream:\n",
    "    def __lshift__(self, other):\n",
    "        print(other, end='')\n",
    "        return self # to allow chaining\n",
    "\n",
    "\n",
    "cout = Ostream()\n",
    "cout << \"Gulshan\" << \" \" << \"Mishra\""
   ]
  },
  {
   "cell_type": "markdown",
   "metadata": {},
   "source": [
    "## Class and Instance attributes"
   ]
  },
  {
   "cell_type": "markdown",
   "metadata": {},
   "source": [
    "A **class attribute** is a Python variable that belongs to a class rather than a particular object. It is shared between all the objects of this class and it is defined outside the **init** dunder.\n",
    "\n",
    "An **instance attribute** is a Python variable belonging to one, and only one, object. This variable is only accessible in the scope of this object and it is defined inside the constructor function, **init** dunder.\n",
    "\n",
    "Another difference is that a class attribute is shared among all the objects whereas an instance attribute is specific to a given object. Also, mutating the class attribute may lead to different results based on whether they are mutable or not.\n",
    "\n",
    "If a class attribute is immutable then assigning a new value to it changes it to an instance variable for that object whereas if it is a mutable then it depends how it's getting mutated. For instance, If the class attribute is a list then adding item in tha list will not convert it to an instance attribute and the changed value will reflect to all the instances. However, assigning a new list to the attribute will make it an instance attribute for that particular instance."
   ]
  },
  {
   "cell_type": "code",
   "execution_count": 8,
   "metadata": {},
   "outputs": [
    {
     "name": "stdout",
     "output_type": "stream",
     "text": [
      "Operation performed: d1.tricks.append('jump')\n",
      "Dog.tricks =  ['jump']\n",
      "\n",
      "Operation performed: d2.tricks.append('play')\n",
      "d1.tricks =  ['jump', 'play']\n",
      "\n",
      "Operation performed: d3.tricks = list('catches')\n",
      "d2.tricks =  ['jump', 'play']\n",
      "d3.tricks =  ['c', 'a', 't', 'c', 'h', 'e', 's']\n"
     ]
    }
   ],
   "source": [
    "class Dog:\n",
    "    tricks = []\n",
    "    \n",
    "    def __init__(self, name):\n",
    "        self.name = name\n",
    "\n",
    "\n",
    "d1 = Dog(\"Fluffy\")\n",
    "d1.tricks.append(\"jump\")\n",
    "print(\"Operation performed: d1.tricks.append('jump')\")\n",
    "print(\"Dog.tricks = \", Dog.tricks)\n",
    "print()\n",
    "\n",
    "d2 = Dog(\"Clinton\")\n",
    "d2.tricks.append(\"play\")\n",
    "print(\"Operation performed: d2.tricks.append('play')\")\n",
    "print(\"d1.tricks = \", d1.tricks)\n",
    "print()\n",
    "\n",
    "d3 = Dog(\"Max\")\n",
    "d3.tricks = list(\"catches\")\n",
    "print(\"Operation performed: d3.tricks = list('catches')\")\n",
    "print(\"d2.tricks = \", d2.tricks)\n",
    "print(\"d3.tricks = \", d3.tricks)"
   ]
  },
  {
   "cell_type": "markdown",
   "metadata": {},
   "source": [
    "## Inheritance and Polymorphism"
   ]
  },
  {
   "cell_type": "markdown",
   "metadata": {},
   "source": [
    "Using inheritance, we can use the attributes of base class and can also override it's methods (Polymorphism). In an inherited subclass, a parent class can be referred with the use of the **super()** function. The super function returns a temporary object of the superclass that allows access to all of its methods to its subclass.\n",
    "\n",
    "**Remark**: Python does not supports method overloading. It only supports method overriding."
   ]
  },
  {
   "cell_type": "code",
   "execution_count": 9,
   "metadata": {},
   "outputs": [
    {
     "name": "stdout",
     "output_type": "stream",
     "text": [
      "Name AKM Age 40\n",
      "Salary 50000\n",
      "\n",
      "Name Gulshan Age 22\n",
      "Marks 80\n"
     ]
    }
   ],
   "source": [
    "class SchoolMember:\n",
    "    \"\"\"Represents any school member\"\"\"\n",
    "    def __init__(self, name, age):\n",
    "        self.name = name\n",
    "        self.age = age\n",
    "\n",
    "    def tell(self):\n",
    "        '''Tell my details'''\n",
    "        print(\"Name {} Age {}\".format(self.name, self.age))\n",
    "\n",
    "class Teacher(SchoolMember):\n",
    "    \"\"\"Represent a teacher\"\"\"\n",
    "    def __init__(self, name, age, salary): # Overriding the __init__ function\n",
    "        SchoolMember.__init__(self, name, age)\n",
    "        # This can also be written as follows:\n",
    "        # super().__init__(name, age)\n",
    "\n",
    "        self.salary = salary\n",
    "\n",
    "    def tell(self): # Function overriding\n",
    "        SchoolMember.tell(self)\n",
    "        # This can also be written as follows:\n",
    "        # super().tell()\n",
    "\n",
    "        print(\"Salary {}\".format(self.salary))\n",
    "\n",
    "class Student(SchoolMember):\n",
    "    def __init__(self, name, age, marks):\n",
    "        super().__init__(name, age)\n",
    "        self.marks = marks\n",
    "\n",
    "    def tell(self):\n",
    "        super().tell()\n",
    "        print(\"Marks {}\".format(self.marks))\n",
    "\n",
    "\n",
    "t = Teacher(\"AKM\", 40, 50000)\n",
    "t.tell()\n",
    "print()\n",
    "\n",
    "s = Student(\"Gulshan\", 22, 80)\n",
    "s.tell()"
   ]
  }
 ],
 "metadata": {
  "kernelspec": {
   "display_name": "Python 3 (ipykernel)",
   "language": "python",
   "name": "python3"
  },
  "language_info": {
   "codemirror_mode": {
    "name": "ipython",
    "version": 3
   },
   "file_extension": ".py",
   "mimetype": "text/x-python",
   "name": "python",
   "nbconvert_exporter": "python",
   "pygments_lexer": "ipython3",
   "version": "3.8.10"
  },
  "vscode": {
   "interpreter": {
    "hash": "df55e80fd1636c21d36de9ee8fddf2d72be9da303751b7c9ea9008b1868c063f"
   }
  }
 },
 "nbformat": 4,
 "nbformat_minor": 2
}
